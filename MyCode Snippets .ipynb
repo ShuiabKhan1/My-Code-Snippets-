{
 "cells": [
  {
   "cell_type": "markdown",
   "id": "9bfefd84",
   "metadata": {},
   "source": [
    "# Drop/Remove a part of data from df with some condition "
   ]
  },
  {
   "cell_type": "code",
   "execution_count": null,
   "id": "15213a62",
   "metadata": {},
   "outputs": [],
   "source": [
    "# Removing this data \n",
    "\n",
    "df=df[df[\"Cytokine\"]!=\"IL22-F8\"]\n",
    "df\n",
    "\n",
    "#another way to do this \n",
    "df.drop(df[df[\"column\"]>== condition].index)\n",
    "# another way to do this\n",
    "df[~df[\"column\"]>== condition]"
   ]
  },
  {
   "cell_type": "code",
   "execution_count": 138,
   "id": "6840ec82",
   "metadata": {
    "scrolled": true
   },
   "outputs": [
    {
     "data": {
      "text/plain": [
       "Int64Index([ 3562,  3563,  3564,  3581,  3582,  3583,  3600,  3601,  3602,\n",
       "             3619,\n",
       "            ...\n",
       "            87455, 87456, 87476, 87477, 87497, 87498, 87518, 87519, 87539,\n",
       "            87540],\n",
       "           dtype='int64', length=1194)"
      ]
     },
     "execution_count": 138,
     "metadata": {},
     "output_type": "execute_result"
    }
   ],
   "source": [
    "#LIST to be removed from the data (using index method)\n",
    "to_be_removed =df[df[\"Value\"].isin([\"84.98+Y12:AH2371843283834\",\"ND\",\"nan\",\"IfNo,don'tuse\"])].index\n",
    "to_be_removed"
   ]
  },
  {
   "cell_type": "code",
   "execution_count": null,
   "id": "13446672",
   "metadata": {},
   "outputs": [],
   "source": [
    "# drop this indexed rows from the df using drop \n",
    "\n",
    "df.drop(to_be_removed)\n",
    "\n",
    "# can aslo use df[~df[\"Value\"].isin([\"84.98+Y12:AH2371843283834\",\"ND\",\"nan\",\"IfNo,don'tuse\"])]  ---not in ()"
   ]
  },
  {
   "cell_type": "code",
   "execution_count": null,
   "id": "a2d689a0",
   "metadata": {},
   "outputs": [],
   "source": [
    "#Change the value into dtype(int/float32)\n",
    "\n",
    "df[\"Value\"].astype('int32')\n"
   ]
  },
  {
   "cell_type": "code",
   "execution_count": null,
   "id": "852352e8",
   "metadata": {},
   "outputs": [],
   "source": [
    "\n",
    "#https://towardsdatascience.com/create-new-column-based-on-other-columns-pandas-5586d87de73d\n",
    "df.loc[cond,\"newcol\"]==condi\n"
   ]
  },
  {
   "cell_type": "code",
   "execution_count": null,
   "id": "b6ea09ee",
   "metadata": {},
   "outputs": [],
   "source": [
    "\n",
    "#list of items that are integers in a column \n",
    "[i for i in df[\"Value\"] if type(i)==int]"
   ]
  },
  {
   "cell_type": "code",
   "execution_count": null,
   "id": "5609f931",
   "metadata": {},
   "outputs": [],
   "source": [
    "# initializing lists\n",
    "test_keys = [\"Rash\", \"Kil\", \"Varsha\"]\n",
    "test_values = [1, 4, 5]\n",
    " \n",
    "# Printing original keys-value lists\n",
    "print(\"Original key list is : \" + str(test_keys))\n",
    "print(\"Original value list is : \" + str(test_values))\n",
    " \n",
    "# using zip()\n",
    "# to convert lists to dictionary\n",
    "res = dict(zip(test_keys, test_values))\n",
    " \n",
    "# Printing resultant dictionary\n",
    "print(\"Resultant dictionary is : \" + str(res))"
   ]
  },
  {
   "cell_type": "markdown",
   "id": "d6fe44d6",
   "metadata": {},
   "source": [
    "# Creating a new column using def Function\n",
    "\n",
    "based on conditions\n"
   ]
  },
  {
   "cell_type": "code",
   "execution_count": null,
   "id": "4d748e0b",
   "metadata": {},
   "outputs": [],
   "source": [
    "#Convert the datatype before anyoperaion (learn based on error )...TypeError: argument of type 'int' is not iterable \n",
    "df[\"Value\"]=df[\"Value\"].astype(\"str\")\n",
    "\n",
    "#write a fn with arugument, conditions \n",
    "\n",
    "def Value_Quant(indentifier):\n",
    "    if \">\" in indentifier:\n",
    "        return \">\"\n",
    "    \n",
    "    elif \"<\" in indentifier:\n",
    "        return \"<\"\n",
    "    else: \n",
    "        return np.NaN\n",
    "    \n",
    "#Create a new column based on other column by maping above fn \n",
    "\n",
    "df[\"Value_Quantifier\"]=df[\"Value\"].map(Value_Quant)\n",
    "df "
   ]
  },
  {
   "cell_type": "markdown",
   "id": "7c7d5524",
   "metadata": {},
   "source": [
    "\n",
    "\n",
    "function main aim as per Shuaib is : \n",
    "    1.To replace/do any opening in the same column -\n",
    "       Define a fn with arg, write consitions \n",
    "       then call the same column with apply/map fn\n",
    "    2. To use the same defined conditional func. and create a new column by using existing column.Map/apply Lmabda fns"
   ]
  },
  {
   "cell_type": "code",
   "execution_count": null,
   "id": "8a4d7fa0",
   "metadata": {},
   "outputs": [],
   "source": [
    "rat2[\"Gender\"]=[\"Female\" if\"Female\" in str(i) else \"Male\" if \"Male\"in str(i) else \"NA\" for i in rat2[\"variable\"]]\n"
   ]
  },
  {
   "cell_type": "code",
   "execution_count": null,
   "id": "b932540d",
   "metadata": {},
   "outputs": [],
   "source": [
    "\n",
    "#Defined a fn\n",
    "\n",
    "def replaceValueFuc(i):\n",
    "    if \">\" in i:\n",
    "        return i.replace(\">\",\"\")\n",
    "    elif \"<\" in i:\n",
    "        return i.replace(\"<\",\"\")\n",
    "    elif \" \" in i: \n",
    "        return i.replace(\" \",\"\")\n",
    "    elif \",\" in i: \n",
    "        return i.replace(\",\",\"\")\n",
    "    else:\n",
    "        return i\n",
    "    "
   ]
  },
  {
   "cell_type": "code",
   "execution_count": null,
   "id": "cbe343ff",
   "metadata": {
    "collapsed": true
   },
   "outputs": [],
   "source": [
    "#now calling the above function with existing column \"Value\" ---now value==i of the fn\n",
    "\n",
    "df[\"Value\"]=df[\"Value\"].map(replaceValueFuc)\n"
   ]
  },
  {
   "cell_type": "code",
   "execution_count": 114,
   "id": "a7298bea",
   "metadata": {
    "scrolled": false
   },
   "outputs": [
    {
     "data": {
      "text/plain": [
       "count     87540\n",
       "unique     5210\n",
       "top           0\n",
       "freq       5025\n",
       "Name: Value, dtype: object"
      ]
     },
     "execution_count": 114,
     "metadata": {},
     "output_type": "execute_result"
    }
   ],
   "source": [
    "#can also use apply as we can see below . both gives the same result summary \n",
    "df[\"Value\"].apply(replaceValueFuc).describe()"
   ]
  },
  {
   "cell_type": "code",
   "execution_count": 115,
   "id": "c87fe7e9",
   "metadata": {},
   "outputs": [
    {
     "data": {
      "text/plain": [
       "count     87540\n",
       "unique     5210\n",
       "top           0\n",
       "freq       5025\n",
       "Name: Value, dtype: object"
      ]
     },
     "execution_count": 115,
     "metadata": {},
     "output_type": "execute_result"
    }
   ],
   "source": [
    "df[\"Value\"].map(replaceValueFuc).describe()"
   ]
  },
  {
   "cell_type": "code",
   "execution_count": null,
   "id": "731d2398",
   "metadata": {},
   "outputs": [],
   "source": [
    "######replace is for column , mask is replace dataframe based on condition\n",
    "\n",
    "\n",
    "# Using DataFrame.mask() function.\n",
    "df['Fee'].mask(df['Fee'] >=22000 ,'0', inplace=True)\n",
    "\n",
    "# Replace values of columns by using DataFrame.loc[] property.\n",
    "df.loc[df['Fee'] > 22000, 'Fee'] = 1"
   ]
  },
  {
   "cell_type": "markdown",
   "id": "e009b6df",
   "metadata": {},
   "source": [
    "# Replace Multiple Characters Using re module\n",
    "\n"
   ]
  },
  {
   "cell_type": "code",
   "execution_count": null,
   "id": "dcb0e1b1",
   "metadata": {},
   "outputs": [],
   "source": [
    "# importing regex module\n",
    "import re\n",
    "\n",
    "# multiple characters to be replaced\n",
    "string = \"A master of all is a master of none\"\n",
    "print(\"Original string: \", string)\n",
    "# let's say - characters to be replaced - 'm', 'n' and white spaces\n",
    "# character to replace with '#'\n",
    "\n",
    "# calling sub() function\n",
    "# white space represented by special sequence- '\\s'\n",
    "# '|' used for either or\n",
    "\n",
    "string = re.sub(\"m|n|\\s\", \"#\", string)\n",
    "print(\"New string: \", string)"
   ]
  },
  {
   "cell_type": "code",
   "execution_count": null,
   "id": "721b8c20",
   "metadata": {},
   "outputs": [],
   "source": [
    "# New column using the same defined Function \n",
    "\n",
    "df[\"New_column\"]=f[\"Value\"].map(replaceValueFuc)"
   ]
  },
  {
   "cell_type": "markdown",
   "id": "e88a3134",
   "metadata": {},
   "source": [
    "# D Type checks"
   ]
  },
  {
   "cell_type": "code",
   "execution_count": null,
   "id": "e41a9832",
   "metadata": {},
   "outputs": [],
   "source": [
    "type(i)=int   \n",
    "\n",
    "df[\"col\"].dtype ----object\n",
    "\n",
    "df[\"col\"].astype(\"str/int32\")----to change the data type \n",
    "\n",
    "df[\"Value\"][4].isnumeric() ---true/false to know if value is number"
   ]
  },
  {
   "cell_type": "markdown",
   "id": "794894a3",
   "metadata": {},
   "source": [
    "# New list and append / New column creation \n",
    "with various consitions "
   ]
  },
  {
   "cell_type": "code",
   "execution_count": null,
   "id": "88b217bd",
   "metadata": {},
   "outputs": [],
   "source": [
    "dog2[\"Gender\"]=[\"Female\" if\"Female\" in str(i) else \"Male\" for i in dog2[\"Tissue\"]]"
   ]
  },
  {
   "cell_type": "code",
   "execution_count": 2,
   "id": "bdab3ecd",
   "metadata": {
    "collapsed": true
   },
   "outputs": [
    {
     "ename": "NameError",
     "evalue": "name 'df' is not defined",
     "output_type": "error",
     "traceback": [
      "\u001b[1;31m---------------------------------------------------------------------------\u001b[0m",
      "\u001b[1;31mNameError\u001b[0m                                 Traceback (most recent call last)",
      "Input \u001b[1;32mIn [2]\u001b[0m, in \u001b[0;36m<cell line: 2>\u001b[1;34m()\u001b[0m\n\u001b[0;32m      1\u001b[0m att\u001b[38;5;241m=\u001b[39m[]\n\u001b[1;32m----> 2\u001b[0m \u001b[38;5;28;01mfor\u001b[39;00m i \u001b[38;5;129;01min\u001b[39;00m \u001b[43mdf\u001b[49m[\u001b[38;5;124m\"\u001b[39m\u001b[38;5;124mSample:\u001b[39m\u001b[38;5;124m\"\u001b[39m]:\n\u001b[0;32m      3\u001b[0m     \u001b[38;5;28;01mif\u001b[39;00m \u001b[38;5;124m\"\u001b[39m\u001b[38;5;124mA\u001b[39m\u001b[38;5;124m\"\u001b[39m \u001b[38;5;129;01min\u001b[39;00m i:\n\u001b[0;32m      4\u001b[0m         att\u001b[38;5;241m.\u001b[39mappend(\u001b[38;5;124m\"\u001b[39m\u001b[38;5;124mMedia\u001b[39m\u001b[38;5;124m\"\u001b[39m)\n",
      "\u001b[1;31mNameError\u001b[0m: name 'df' is not defined"
     ]
    }
   ],
   "source": [
    "att=[]\n",
    "for i in df[\"Sample:\"]:\n",
    "    if \"A\" in i:\n",
    "        att.append(\"Media\")\n",
    "    elif \"B\" in i:\n",
    "        att.append(\"Media2\")\n",
    "    elif \"C\" in i:\n",
    "        att.append(\"Media3\")\n",
    "    elif \"D\" in i:\n",
    "        att.append(\"ABcT-874\")    \n",
    "    elif \"E\" in i:\n",
    "        att.append(\"Test1\")   \n",
    "    elif \"F\" in i:\n",
    "        att.append(\"Test12\")    \n",
    "    elif \"G\" in i:\n",
    "        att.append(\"Test13\")    \n",
    "    elif \"H\" in i:\n",
    "        att.append(\"Test14\")       \n",
    "    else:\n",
    "        att.append(\"code has only donors conatining [A-H],Pls check back the code SHUAIB \")\n",
    "df[\"New_col\"]=att\n",
    "\n",
    "df"
   ]
  },
  {
   "cell_type": "code",
   "execution_count": 21,
   "id": "b5ac15d0",
   "metadata": {},
   "outputs": [
    {
     "data": {
      "text/plain": [
       "{'2903593': 1, '2903595': 1, 'ABT-874': 3, 'Herceptin': 1, 'KLH': 3}"
      ]
     },
     "execution_count": 21,
     "metadata": {},
     "output_type": "execute_result"
    }
   ],
   "source": [
    "count_dic=org[org[\"NormCellTraceCount\"]>2].groupby(\"Drug\")[\"NormCellTraceCount\"].count()\n",
    "count_dic=dict(count_dic)\n",
    "count_dic"
   ]
  },
  {
   "cell_type": "code",
   "execution_count": null,
   "id": "05cd87d2",
   "metadata": {},
   "outputs": [],
   "source": [
    "org[\"Count_DrugG2\"]=org[\"Drug\"].map(count_dic).fillna(0)\n",
    "org"
   ]
  },
  {
   "cell_type": "markdown",
   "id": "4c851edf",
   "metadata": {},
   "source": [
    "# Unique list code"
   ]
  },
  {
   "cell_type": "code",
   "execution_count": null,
   "id": "6f98e305",
   "metadata": {},
   "outputs": [],
   "source": [
    "def unique(list1):\n",
    " \n",
    "    # initialize a null list\n",
    "    unique_list = []\n",
    " \n",
    "    # traverse for all elements\n",
    "    for x in list1:\n",
    "        # check if exists in unique_list or not\n",
    "        if x not in unique_list:\n",
    "            unique_list.append(x)\n",
    "    # print list\n",
    "    for x in unique_list:\n",
    "        print x,\n",
    " \n",
    " \n",
    "# driver code\n",
    "list1 = [10, 20, 10, 30, 40, 40]\n",
    "print(\"the unique values from 1st list is\")\n",
    "unique(list1)\n",
    " \n",
    " \n",
    "list2 = [1, 2, 1, 1, 3, 4, 3, 3, 5]\n",
    "print(\"\\nthe unique values from 2nd list is\")\n",
    "unique(list2)\n",
    "\n",
    "Output: \n",
    "the unique values from 1st list is\n",
    "10 20 30 40 \n",
    "the unique values from 2nd list is\n",
    "1 2 3 4 5"
   ]
  },
  {
   "cell_type": "code",
   "execution_count": 7,
   "id": "4283f80f",
   "metadata": {},
   "outputs": [],
   "source": [
    "import pandas as pd"
   ]
  },
  {
   "cell_type": "markdown",
   "id": "970c5572",
   "metadata": {},
   "source": [
    "# Map vs Replace"
   ]
  },
  {
   "cell_type": "code",
   "execution_count": 12,
   "id": "463655f0",
   "metadata": {},
   "outputs": [],
   "source": [
    "days = pd.Series(['Monday'\n",
    "                  ,'Tuesday'\n",
    "                  ,'Wednesday'\n",
    "                  ,'Thursday'\n",
    "                  ,'Friday'\n",
    "                  ,'Saturday'\n",
    "                  ,'Sunday'\n",
    "                  ,\"testing\"])\n",
    "new={\"Monday\":\"moonsdayyy\"}"
   ]
  },
  {
   "cell_type": "code",
   "execution_count": 19,
   "id": "ed19caae",
   "metadata": {},
   "outputs": [
    {
     "data": {
      "text/plain": [
       "0    moonsdayyy\n",
       "1       Tuesday\n",
       "2     Wednesday\n",
       "3      Thursday\n",
       "4        Friday\n",
       "5      Saturday\n",
       "6        Sunday\n",
       "7       testing\n",
       "dtype: object"
      ]
     },
     "execution_count": 19,
     "metadata": {},
     "output_type": "execute_result"
    }
   ],
   "source": [
    "days.replace(new)"
   ]
  },
  {
   "cell_type": "code",
   "execution_count": 18,
   "id": "41bbe07d",
   "metadata": {},
   "outputs": [
    {
     "data": {
      "text/plain": [
       "0    moonsdayyy\n",
       "1           NaN\n",
       "2           NaN\n",
       "3           NaN\n",
       "4           NaN\n",
       "5           NaN\n",
       "6           NaN\n",
       "7           NaN\n",
       "dtype: object"
      ]
     },
     "execution_count": 18,
     "metadata": {},
     "output_type": "execute_result"
    }
   ],
   "source": [
    "days.map(new,na_action=\"Ignore\")"
   ]
  },
  {
   "cell_type": "markdown",
   "id": "07ec7a8c",
   "metadata": {},
   "source": [
    "# Replace columns names \n",
    "-No Regex"
   ]
  },
  {
   "cell_type": "code",
   "execution_count": null,
   "id": "fd633905",
   "metadata": {},
   "outputs": [],
   "source": [
    "#To replace part of column \n",
    "\n",
    "df.columns.str.replace(\"DogBodyAtlas_\",\"Dog_Male_\",regex=False)"
   ]
  },
  {
   "cell_type": "code",
   "execution_count": null,
   "id": "7c23ea86",
   "metadata": {},
   "outputs": [],
   "source": [
    "#This removes all the special characters in list inot blanks\n",
    "\n",
    "df.columns.str.replace('[#,@,&]','')\n"
   ]
  },
  {
   "cell_type": "markdown",
   "id": "9df387a9",
   "metadata": {},
   "source": [
    "# Files merge and concat from folder\n",
    " and create a new column with file name using glob"
   ]
  },
  {
   "cell_type": "code",
   "execution_count": 6,
   "id": "cada29ee",
   "metadata": {},
   "outputs": [],
   "source": [
    "\n",
    "import glob\n",
    "import pandas as pd "
   ]
  },
  {
   "cell_type": "code",
   "execution_count": 1,
   "id": "b8ca519a",
   "metadata": {
    "scrolled": true
   },
   "outputs": [],
   "source": [
    "path=r\"C:\\Users\\\\NetworkCurationfiles\" \n",
    "filenames =glob.glob(path+\"\\*.xlsx\")\n",
    "filenames \n",
    "\n",
    "#either create a new DF and append the list of read files with \n",
    "#some operation in btween (creating column with file name using split from path)\n",
    "df=pd.DataFrame()\n",
    "for i in filenames:\n",
    "    filen=pd.read_excel(i)\n",
    "    filen[\"File_Name\"]=i.#split(\"Copy of \")[1].split(\".xlsx\")[0]  # just i will be also suffice \n",
    "    df=df.append(filen)\n",
    "df\n",
    "\n",
    "\n",
    "# Method:2 list create and concat the lists to become DF  \n",
    "el=[]\n",
    "for i in filenames:\n",
    "    df=pd.read_excel(i)\n",
    "    print(i)\n",
    "    el.append(df)   \n",
    "el\n",
    "\n",
    "df=pd.concat(el)\n",
    "df"
   ]
  },
  {
   "cell_type": "markdown",
   "id": "44510aff",
   "metadata": {},
   "source": [
    "# Define Conditions and create column using def Fucntions"
   ]
  },
  {
   "cell_type": "code",
   "execution_count": null,
   "id": "34ac017f",
   "metadata": {},
   "outputs": [],
   "source": [
    "def coln(x):\n",
    "    if not pd.isna(x):\n",
    "        if x<20:\n",
    "            return \"Bad\"\n",
    "        elif x=20:\n",
    "            return \"Good\"\n",
    "    else:\n",
    "        return np.NaN\n",
    "        "
   ]
  },
  {
   "cell_type": "code",
   "execution_count": null,
   "id": "da082739",
   "metadata": {},
   "outputs": [],
   "source": [
    "# label are new columns created \n",
    "astalt[\"AST_Lable\"]=astalt[\"AspartateAminotransferase_PCC\"].map(coln)\n",
    "astalt[\"ALT_Label\"]=astalt[\"AlanineAminotransferase_PCC\"].map(coln)"
   ]
  },
  {
   "cell_type": "markdown",
   "id": "e33dbd5c",
   "metadata": {},
   "source": [
    "# Replace Values in Column Based on Condition"
   ]
  },
  {
   "cell_type": "code",
   "execution_count": null,
   "id": "65bd2d93",
   "metadata": {},
   "outputs": [],
   "source": [
    "df.loc[df[‘column’]>condition, ‘new column name’] = ‘value if condition is met’\n",
    "\n",
    "df['Age Category'] = 'Over 30'\n",
    "df.loc[df['Age'] < 30, 'Age Category'] = 'Under 30'"
   ]
  },
  {
   "cell_type": "markdown",
   "id": "f8077c7f",
   "metadata": {},
   "source": [
    "# Outlier Detection "
   ]
  },
  {
   "cell_type": "code",
   "execution_count": null,
   "id": "a458ad5e",
   "metadata": {},
   "outputs": [],
   "source": [
    "Q1 = np.percentile(df['DIS'], 25)\n",
    "Q3 = np.percentile(df['DIS'], 75)\n",
    "\n",
    "IQR = Q3 - Q1\n",
    "  \n",
    "# Upper bound\n",
    "upper = np.where(df['DIS'] >= (Q3+1.5*IQR))\n",
    "# Lower bound\n",
    "lower = np.where(df['DIS'] <= (Q1-1.5*IQR))\n",
    " \n",
    "''' Removing the Outliers '''\n",
    "df.drop(upper[0], inplace = True)\n",
    "df.drop(lower[0], inplace = True)\n",
    " \n",
    "print(\"New Shape: \", df.shape)"
   ]
  },
  {
   "cell_type": "markdown",
   "id": "f332a915",
   "metadata": {},
   "source": [
    "And the rest 0.28% of the whole data lies outside three standard deviations (>3σ) of the mean (μ), taking both sides into account, the little red region in the figure. And this part of the data is considered as outliers.\n",
    "The first and the third quartiles, Q1 and Q3, lies at -0.675σ and +0.675σ from the mean, respectively."
   ]
  },
  {
   "cell_type": "markdown",
   "id": "956231a3",
   "metadata": {},
   "source": [
    "# Distribution/Hist Plots"
   ]
  },
  {
   "cell_type": "code",
   "execution_count": null,
   "id": "a1628cf6",
   "metadata": {},
   "outputs": [],
   "source": [
    "from matplotlib.pyplot import figure\n",
    "\n",
    "figure(figsize=(12, 6), dpi=80)\n",
    "sns.histplot(astalt[(astalt[\"AST_Lable\"]=='Good')&(astalt[\"All_IC50s\"]!=40)][\"All_IC50s\"],color='green',kde=True)\n",
    "sns.histplot(astalt[(astalt[\"AST_Lable\"]=='Bad')&(astalt[\"All_IC50s\"]!=40)][\"All_IC50s\"],color='red',kde=True)\n",
    "plt.show()"
   ]
  },
  {
   "cell_type": "markdown",
   "id": "092301a6",
   "metadata": {},
   "source": [
    "# Column iloc and step skip"
   ]
  },
  {
   "cell_type": "code",
   "execution_count": null,
   "id": "e4452828",
   "metadata": {},
   "outputs": [],
   "source": [
    "#iloc[:, 6:-1] all rows and start from 6th column till last but 1 \n",
    "# columns[1::2] is columns starting from 2nd one and skip evary 2nd one \n",
    "index_df.iloc[:, 6:-1].columns[1::2]"
   ]
  },
  {
   "cell_type": "markdown",
   "id": "2f085e2f",
   "metadata": {},
   "source": [
    "# Binwise Cutting"
   ]
  },
  {
   "cell_type": "code",
   "execution_count": null,
   "id": "ec5ec3fc",
   "metadata": {},
   "outputs": [],
   "source": [
    "astalt[\"IC50_Bins\"]=pd.cut(astalt[\"All_IC50s\"],bins=[0,5,10,15,20,25,30,35,40])\n",
    "astalt"
   ]
  },
  {
   "cell_type": "code",
   "execution_count": null,
   "id": "2c78e268",
   "metadata": {},
   "outputs": [],
   "source": [
    "#another method \n",
    "df.loc[df[\"col\"].between(0,10,\"both\"),'newcolumn']=\"0-10\""
   ]
  },
  {
   "cell_type": "markdown",
   "id": "fa50dc4e",
   "metadata": {},
   "source": [
    "# Visuals"
   ]
  },
  {
   "cell_type": "code",
   "execution_count": 81,
   "id": "0192b5dc",
   "metadata": {
    "scrolled": false
   },
   "outputs": [
    {
     "data": {
      "image/png": "[encoded data removed]",
      "text/plain": [
       "<Figure size 720x360 with 1 Axes>"
      ]
     },
     "metadata": {
      "needs_background": "light"
     },
     "output_type": "display_data"
    }
   ],
   "source": [
    "from matplotlib import pyplot as plt\n",
    "\n",
    "fig, axis = plt.subplots(1,figsize=(10, 5))\n",
    "fig.suptitle(f\"PBMC {posCorre[0].columns[1]} Good vs Bad\",fontweight=\"bold\")\n",
    "plt.hist([posCorre[0][posCorre[0][\"Label\"]==\"Good\"][\"All_IC50s\"], \n",
    "          posCorre[0][posCorre[0][\"Label\"]==\"Bad\"][\"All_IC50s\"]], color=['g','r'], \n",
    "         bins=8,alpha=0.6,align=\"mid\")\n",
    "\n",
    "\n",
    "for p in axis.patches:\n",
    "    axis.annotate('{:}'.format(p.get_height()), (p.get_x(), p.get_height()))"
   ]
  },
  {
   "cell_type": "code",
   "execution_count": 65,
   "id": "6053ca78",
   "metadata": {
    "scrolled": false
   },
   "outputs": [
    {
     "data": {
      "image/png": "[encoded data removed]",
      "text/plain": [
       "<Figure size 1080x360 with 2 Axes>"
      ]
     },
     "metadata": {
      "needs_background": "light"
     },
     "output_type": "display_data"
    }
   ],
   "source": [
    "from matplotlib import pyplot as plt\n",
    "\n",
    "fig, axis = plt.subplots(1,2,figsize=(15, 5))\n",
    "fig.suptitle(f\"PBMC {posCorre[0].columns[1]}\",fontweight=\"bold\")\n",
    "\n",
    "sns.histplot(ax=axis[0],data=posCorre[0][posCorre[0][\"Label\"]==\"Good\"][\"All_IC50s\"],color=\"green\",bins=8,kde=True)\n",
    "sns.histplot(ax=axis[1],data=posCorre[0][posCorre[0][\"Label\"]==\"Bad\"][\"All_IC50s\"],color=\"Red\",bins=8,kde=True)\n",
    "\n",
    "axis[0].set_title(f\"{posCorre[0].columns[1]}_Good\")\n",
    "axis[1].set_title(f\"{posCorre[0].columns[1]}_Bad\")\n",
    "\n",
    "for p in axis[0].patches:\n",
    "    axis[0].annotate('{:}'.format(p.get_height()), (p.get_x()+0.25, p.get_height()+0.01))\n",
    "for p in axis[1].patches:\n",
    "    axis[1].annotate('{:}'.format(p.get_height()), (p.get_x()+0.25, p.get_height()+0.01))\n"
   ]
  },
  {
   "cell_type": "code",
   "execution_count": 61,
   "id": "e264f5e9",
   "metadata": {
    "scrolled": true
   },
   "outputs": [
    {
     "data": {
      "image/png": "[encoded data removed]",
      "text/plain": [
       "<Figure size 432x288 with 1 Axes>"
      ]
     },
     "metadata": {
      "needs_background": "light"
     },
     "output_type": "display_data"
    }
   ],
   "source": [
    "kwargs = dict ( marker ='o', linewidth=2, markersize=5)\n",
    "sns.lineplot(x=pg[\"IC50_Bins_E\"],y=pg[\"TP\"],hue=pg[\"Label\"],style=pg[\"Label\"],marker=\"o\",dashes=False,markersize=5)\n",
    "\n",
    "def label_point(x, y, val, ax):\n",
    "    a = pd.concat({'x': x, 'y': y, 'val': val}, axis=1)\n",
    "    for i, point in a.iterrows():\n",
    "        ax.text(point['x'], point['y'], str(point['val']))\n",
    "\n",
    "label_point(pg[\"IC50_Bins_E\"], pg[\"TP\"], pg[\"TP\"], plt.gca())\n"
   ]
  },
  {
   "cell_type": "code",
   "execution_count": 233,
   "id": "1adcd947",
   "metadata": {
    "scrolled": true
   },
   "outputs": [
    {
     "data": {
      "image/png": "[encoded data removed]",
      "text/plain": [
       "<Figure size 1296x504 with 4 Axes>"
      ]
     },
     "metadata": {
      "needs_background": "light"
     },
     "output_type": "display_data"
    }
   ],
   "source": [
    "\n",
    "c=dog3.loc[(dog3[\"Tissue_Name\"].isin(CommonTissues))&(dog3[\"GeneName\"].isin(Spl_TisList))]  #Common\n",
    "m=c.loc[c[\"Gender\"]==\"Male\"].pivot_table(index=\"GeneName\",values=\"Log_Value\",columns=\"Tissue_Name\")  #Male filter\n",
    "f=c.loc[c[\"Gender\"]==\"Female\"].pivot_table(index=\"GeneName\",values=\"Log_Value\",columns=\"Tissue_Name\") #Female filter \n",
    "    #plot\n",
    "fig, (ax1, ax2) = plt.subplots(ncols=2,figsize=(18, 7))\n",
    "fig.subplots_adjust(wspace=0.01)\n",
    "\n",
    "sns.heatmap(m, ax=ax1, linewidth=.5,cmap=\"Reds\",linecolor='grey',cbar=True)\n",
    "sns.heatmap(f, ax=ax2,linewidth=.5, cmap=\"Reds\",linecolor='grey',cbar=True)\n",
    "\n",
    "ax1.set_title(\"Dog Male\\n\",fontweight=\"bold\")\n",
    "ax2.set_title(\"Dog Female\\n\",fontweight=\"bold\")\n",
    "fig.subplots_adjust(wspace=0.5)\n",
    "plt.savefig(\"Dog MaleFemale.pdf\", format=\"pdf\", bbox_inches=\"tight\")\n",
    "plt.show()\n"
   ]
  },
  {
   "cell_type": "code",
   "execution_count": 355,
   "id": "76691e31",
   "metadata": {
    "scrolled": true
   },
   "outputs": [
    {
     "data": {
      "text/plain": [
       "Text(0.5, 1.0, 'Top 15 Overlap')"
      ]
     },
     "execution_count": 355,
     "metadata": {},
     "output_type": "execute_result"
    },
    {
     "data": {
      "image/png": "[encoded data removed]",
      "text/plain": [
       "<Figure size 1080x720 with 1 Axes>"
      ]
     },
     "metadata": {
      "needs_background": "light"
     },
     "output_type": "display_data"
    }
   ],
   "source": [
    "t15.plot(kind='bar',x='Gene' , y=[\"Overlap_All\",\"Overlap_Male\",\"Overlap_Female\"], \n",
    "         color=['blue','orange', 'grey'],width = 0.7, \n",
    "         figsize=(15,10)).legend( bbox_to_anchor =(1 ,1))\n",
    "plt.title('Top 15 Overlap')\n"
   ]
  },
  {
   "cell_type": "code",
   "execution_count": null,
   "id": "7a9a412f",
   "metadata": {},
   "outputs": [],
   "source": []
  },
  {
   "cell_type": "markdown",
   "id": "7672ab42",
   "metadata": {},
   "source": [
    "# Delimiter read CSV and txt "
   ]
  },
  {
   "cell_type": "code",
   "execution_count": null,
   "id": "213d65c5",
   "metadata": {},
   "outputs": [],
   "source": [
    "pd.read_csv(r'C:\\Users\\sudf\\Downloads\\amfb.txt',sep='\\t')\n"
   ]
  },
  {
   "cell_type": "markdown",
   "id": "d705a896",
   "metadata": {},
   "source": [
    "# File reading "
   ]
  },
  {
   "cell_type": "code",
   "execution_count": null,
   "id": "187913dd",
   "metadata": {},
   "outputs": [],
   "source": [
    "import os\n",
    "Completed = [file for file in os.listdir(r\"C:\\Users\\asdfghjTSAs\\Completed\")]\n",
    "\n",
    "NoExcel=[file for file in os.listdir(r\"C:\\Users\\asdfghNo Excel\")]\n",
    "\n",
    "#to get all the names in the folder in alist\n"
   ]
  },
  {
   "cell_type": "markdown",
   "id": "3e98b832",
   "metadata": {},
   "source": [
    "# RE regular expression \n",
    "\n"
   ]
  },
  {
   "cell_type": "code",
   "execution_count": null,
   "id": "540943fa",
   "metadata": {},
   "outputs": [],
   "source": [
    "https://pynative.com/python-regex-replace-re-sub/"
   ]
  },
  {
   "cell_type": "code",
   "execution_count": null,
   "id": "4ae4ae4e",
   "metadata": {},
   "outputs": [],
   "source": [
    "we=[]\n",
    "for i in ll[\"index\"]:\n",
    "    a=re.sub(\"Dog_|Dog|Female_\",\"\",i)  #  all the 3 either ir to be replaced \n",
    "    b=re.sub(r'\\_1...',\"\",a)    #starts with _1\n",
    "    we.append(b)\n",
    "we\n",
    "\n",
    "#import re"
   ]
  },
  {
   "cell_type": "markdown",
   "id": "a1650d3e",
   "metadata": {},
   "source": [
    "# Loop for 2 lists at a time (multiple loops)"
   ]
  },
  {
   "cell_type": "code",
   "execution_count": 128,
   "id": "3842484d",
   "metadata": {
    "scrolled": false
   },
   "outputs": [
    {
     "data": {
      "text/plain": [
       "0       Dog_Kidneys\n",
       "1       Dog_Kidneys\n",
       "2       Dog_Kidneys\n",
       "3       Dog_Kidneys\n",
       "4       Dog_Kidneys\n",
       "           ...     \n",
       "1415      Rat_Liver\n",
       "1416      Rat_Liver\n",
       "1417      Rat_Liver\n",
       "1418      Rat_Liver\n",
       "1419      Rat_Liver\n",
       "Name: Species_Tissue, Length: 1420, dtype: object"
      ]
     },
     "execution_count": 128,
     "metadata": {},
     "output_type": "execute_result"
    }
   ],
   "source": [
    "hist_new[\"Species_Tissue\"]=[i+\"_\"+j for i,j in zip(hist_new[\"species\"],hist_new[\"meas_name\"] )]\n",
    "hist_new[\"Species_Tissue\"]"
   ]
  },
  {
   "cell_type": "code",
   "execution_count": null,
   "id": "c1da97c4",
   "metadata": {},
   "outputs": [],
   "source": [
    "#Filter not na (nonna ) nonull values from the column and do operation , replace space with nothing (empty)\n",
    "\n",
    "we=[]\n",
    "for i in qcgroup[\"QC_Tissues\"]:\n",
    "    if not pd.isna(i):\n",
    "        p=re.sub(\"\\s\",\"\",str(i))\n",
    "        \n",
    "    else:\n",
    "        p=i\n",
    "    we.append(p)    #always remember to append under if indentation - silly errors \n",
    "        \n",
    "we      \n",
    "qcgroup[\"Updated_Tissue\"]=we"
   ]
  },
  {
   "cell_type": "markdown",
   "id": "7fff8379",
   "metadata": {},
   "source": [
    "# Groupby"
   ]
  },
  {
   "cell_type": "code",
   "execution_count": null,
   "id": "4b311c4e",
   "metadata": {},
   "outputs": [],
   "source": [
    "df.groupby(\"Study\").agg({'Species':'first','QC_Tissues':'min'}).reset_index()\n"
   ]
  },
  {
   "cell_type": "code",
   "execution_count": null,
   "id": "acd474f7",
   "metadata": {},
   "outputs": [],
   "source": [
    "#group rows of DataFrame based on value in 'store' column\n",
    "grouped_stores = df.groupby(['store'])\n",
    "\n",
    "#get all rows that belong to group name 'A' for sales and refunds columns\n",
    "grouped_stores[['store', 'refunds']].get_group('A')\n",
    "\n",
    "    store  refunds\n",
    "0\tA\t 4\n",
    "1\tA\t 8\n",
    "2\tA\t 7\n",
    "3\tA\t 7\n",
    "\n",
    "\n",
    "#this is similar to conditional filter using regular loc fn or just  -- df[df['col']>2][\"select cols \"]"
   ]
  },
  {
   "cell_type": "markdown",
   "id": "a7c05d8e",
   "metadata": {},
   "source": [
    "# ZIP - 2 lists into data frame "
   ]
  },
  {
   "cell_type": "code",
   "execution_count": null,
   "id": "b8da00fe",
   "metadata": {},
   "outputs": [],
   "source": [
    "pd.DataFrame(zip(tf,tc),columns=[\"tf\",\"tc\"])\n",
    "\n",
    "tf=[one listof y=items ]\n",
    "tc=[another list of items ]\n",
    "instead of appending evrytime ..zip(tf,tc) and make into DF and then append with original datafrma like \n",
    "\n",
    "pd.concat([pd.DataFrame(zip(tf,tc),columns=[\"tf\",\"tc\"],axis-),qcgroup]) --Sometimes..shape doubles so use the below code\n",
    "\n",
    "pd.concat([qcgroupbyDF.reset_index(),pd.DataFrame(zip(tf,tc))],axis=1)\n",
    "\n",
    "\n",
    "now will have 2 datframes side by side "
   ]
  },
  {
   "cell_type": "code",
   "execution_count": null,
   "id": "216f517e",
   "metadata": {},
   "outputs": [],
   "source": [
    "Select item from list/DF\n",
    "\n",
    "From list do a[0],,,list[3]...etc \n",
    "but for Dafarame column...choose using df[\"col\"].iloc[0],,,df[\"col\"].iloc[3] resp.\n",
    "\n"
   ]
  },
  {
   "cell_type": "code",
   "execution_count": null,
   "id": "55cb9b75",
   "metadata": {},
   "outputs": [],
   "source": [
    "big_list=[]\n",
    "for j in [0,1,2,3,4]:\n",
    "    tf=[]\n",
    "    tc=[]\n",
    "    cov=[]\n",
    "    \n",
    "    for i in qcgroup[\"Study\"]:\n",
    "        \n",
    "    #     if j.isna()==False for j in qcgroup[\"QC_Tissues\"]\n",
    "\n",
    "        p=qcgroup[qcgroup[\"Study\"]==i].iloc[0][\"Updated_Tissue\"].split(\";\")\n",
    "        q=histscore[histscore[\"STRENGTH (Max)\"]>=j].groupby([\"study_number\"]).get_group(i)[\"Updated_Tissue\"].to_list()\n",
    "        tissues_found=len(set(p)&set(q))\n",
    "        tissues_curated=len(p)\n",
    "        coverage=tissues_found/tissues_curated\n",
    "        tf.append(tissues_found)\n",
    "        tc.append(tissues_curated)\n",
    "        cov.append(coverage)\n",
    "    df=pd.concat([qcgroup,pd.DataFrame(zip(tf,tc,cov),columns=[\"Tissuesfound\",\"TissuesCurated\",\"Coverage\"])],axis=1)\n",
    "    big_list.append(df)\n",
    "    print(big_list)\n",
    "big_list\n",
    "    "
   ]
  },
  {
   "cell_type": "code",
   "execution_count": null,
   "id": "3c633936",
   "metadata": {},
   "outputs": [],
   "source": [
    "#space removal using reg exp\n",
    "\n",
    "cleanQC[\"updated_Tissues\"]=[re.sub(\"\\s\",\"\",str(i)) for i in cleanQC[\"updated_Tissues\"]]"
   ]
  },
  {
   "cell_type": "code",
   "execution_count": null,
   "id": "a0f43c64",
   "metadata": {},
   "outputs": [],
   "source": [
    "EXplode function divides list of items of each row into multiple rows (somethong like split )\n",
    "\n",
    "https://pandas.pydata.org/docs/reference/api/pandas.DataFrame.explode.html\n",
    " \n",
    "#cleanQC.explode('updated_Tissues')[[\"Study\",\"updated_Tissues\"]]\n",
    "    \n",
    "s1=[]\n",
    "s2=[]\n",
    "s3=[]\n",
    "for p in cleanQC[\"Study\"]:\n",
    "    \n",
    "    \n",
    "    for i in cleanQC[\"QC_Tissues\"]:\n",
    "        l1=i.split(\";\")\n",
    "        for j in l1:\n",
    "            \n",
    "            if j in hist[\"Updated_Tissue\"].to_list():\n",
    "                s1.append(p)\n",
    "                s2.append(j)\n",
    "                s3.append(\"match\")\n",
    "            else:\n",
    "                s1.append(p)\n",
    "                s2.append(j)\n",
    "                s3.append(\"UnMatched\")\n",
    "list(zip(s1,s2,s3)) "
   ]
  },
  {
   "cell_type": "markdown",
   "id": "7f6b2055",
   "metadata": {},
   "source": [
    "# Custom sort/filter"
   ]
  },
  {
   "cell_type": "code",
   "execution_count": 161,
   "id": "533bbae2",
   "metadata": {
    "scrolled": false
   },
   "outputs": [
    {
     "data": {
      "text/html": [
       "<div>\n",
       "<style scoped>\n",
       "    .dataframe tbody tr th:only-of-type {\n",
       "        vertical-align: middle;\n",
       "    }\n",
       "\n",
       "    .dataframe tbody tr th {\n",
       "        vertical-align: top;\n",
       "    }\n",
       "\n",
       "    .dataframe thead th {\n",
       "        text-align: right;\n",
       "    }\n",
       "</style>\n",
       "<table border=\"1\" class=\"dataframe\">\n",
       "  <thead>\n",
       "    <tr style=\"text-align: right;\">\n",
       "      <th></th>\n",
       "      <th>Species</th>\n",
       "      <th>Coverage</th>\n",
       "    </tr>\n",
       "  </thead>\n",
       "  <tbody>\n",
       "    <tr>\n",
       "      <th>2</th>\n",
       "      <td>Mouse</td>\n",
       "      <td>0.314286</td>\n",
       "    </tr>\n",
       "    <tr>\n",
       "      <th>3</th>\n",
       "      <td>Rat</td>\n",
       "      <td>0.414762</td>\n",
       "    </tr>\n",
       "    <tr>\n",
       "      <th>0</th>\n",
       "      <td>Dog</td>\n",
       "      <td>0.428471</td>\n",
       "    </tr>\n",
       "    <tr>\n",
       "      <th>1</th>\n",
       "      <td>Monkey</td>\n",
       "      <td>0.451852</td>\n",
       "    </tr>\n",
       "  </tbody>\n",
       "</table>\n",
       "</div>"
      ],
      "text/plain": [
       "  Species  Coverage\n",
       "2   Mouse  0.314286\n",
       "3     Rat  0.414762\n",
       "0     Dog  0.428471\n",
       "1  Monkey  0.451852"
      ]
     },
     "execution_count": 161,
     "metadata": {},
     "output_type": "execute_result"
    }
   ],
   "source": [
    "from pandas.api.types import CategoricalDtype\n",
    "\n",
    "cat_size_order = CategoricalDtype(['Mouse','Rat','Dog','Monkey'], ordered=True)\n",
    "    \n",
    "mean3['Species'] = mean3['Species'].astype(cat_size_order)\n",
    "mean3=mean3.sort_values('Species')\n"
   ]
  },
  {
   "cell_type": "markdown",
   "id": "ec3fe79e",
   "metadata": {},
   "source": [
    "# Strip function "
   ]
  },
  {
   "cell_type": "code",
   "execution_count": null,
   "id": "cd111ff3",
   "metadata": {},
   "outputs": [],
   "source": [
    "https://pandas.pydata.org/docs/reference/api/pandas.Series.str.strip.html\n",
    "    \n",
    "['1. Ant.  '].str.strip()\n",
    "  Ant.\n",
    "#Strip whitespaces (including newlines) or a set of specified characters from each \n",
    "#string in the Series/Index from left and right sides. Replaces any non-strings in Series with NaNs. \n",
    "#Equivalent to str.strip()."
   ]
  },
  {
   "cell_type": "markdown",
   "id": "053a8df2",
   "metadata": {},
   "source": [
    "# RE search find contain remove replace"
   ]
  },
  {
   "cell_type": "code",
   "execution_count": 5,
   "id": "8f44ca88",
   "metadata": {},
   "outputs": [
    {
     "name": "stdout",
     "output_type": "stream",
     "text": [
      "This is a vwe should not be able to see this\n"
     ]
    }
   ],
   "source": [
    "import re\n",
    "test = \"This is a testwe should not be able to see this\"\n",
    "res = re.sub(r'test*',\"v\",test)\n",
    "print(res)"
   ]
  },
  {
   "cell_type": "code",
   "execution_count": 2,
   "id": "52a2664b",
   "metadata": {},
   "outputs": [],
   "source": [
    "import re"
   ]
  },
  {
   "cell_type": "code",
   "execution_count": 5,
   "id": "2f093aec",
   "metadata": {
    "scrolled": true
   },
   "outputs": [
    {
     "data": {
      "text/plain": [
       "'kkAdipose_Brown'"
      ]
     },
     "execution_count": 5,
     "metadata": {},
     "output_type": "execute_result"
    }
   ],
   "source": [
    "re.sub(r'Male_|Female_|Mouse_',\"k\",\"Mouse_Male_Adipose_Brown\")"
   ]
  },
  {
   "cell_type": "code",
   "execution_count": 162,
   "id": "cf08447f",
   "metadata": {
    "scrolled": true
   },
   "outputs": [
    {
     "data": {
      "text/plain": [
       "'j_Female_LacrimalGland'"
      ]
     },
     "execution_count": 162,
     "metadata": {},
     "output_type": "execute_result"
    }
   ],
   "source": [
    "re.sub(r'_1.*|Dog_|Dog',\"\",\"Dogj_Female_Dog_LacrimalGland_1004\")"
   ]
  },
  {
   "cell_type": "code",
   "execution_count": 32,
   "id": "72a12c24",
   "metadata": {
    "scrolled": true
   },
   "outputs": [
    {
     "name": "stdout",
     "output_type": "stream",
     "text": [
      "This is a testv\n"
     ]
    }
   ],
   "source": [
    "test = \"This is a test...we should not be able to see this\"\n",
    "res = re.sub(r'\\..*',\"v\",test)\n",
    "print(res)"
   ]
  },
  {
   "cell_type": "code",
   "execution_count": 4,
   "id": "14c44da4",
   "metadata": {},
   "outputs": [
    {
     "data": {
      "text/plain": [
       "'A-979093'"
      ]
     },
     "execution_count": 4,
     "metadata": {},
     "output_type": "execute_result"
    }
   ],
   "source": [
    "re.sub(r\"\\..\",\"\",\"A-979093.0\")       # dot re removal from string "
   ]
  },
  {
   "cell_type": "code",
   "execution_count": 36,
   "id": "7831ef7e",
   "metadata": {},
   "outputs": [
    {
     "data": {
      "text/plain": [
       "'A-979093'"
      ]
     },
     "execution_count": 36,
     "metadata": {},
     "output_type": "execute_result"
    }
   ],
   "source": [
    "re.sub(r\"\\..*\",\"\",\"A-979093.023\")    # removes that starts with dot ."
   ]
  },
  {
   "cell_type": "code",
   "execution_count": null,
   "id": "5a5027bc",
   "metadata": {},
   "outputs": [],
   "source": [
    "hist.loc[hist[\"finding_new\"].str.contains('NECROSIS')==True,\"finding_new\"]='DEGENERATION' \n",
    "hist.loc[hist[\"finding_new\"].str.contains('DEGENERATION')==True,\"finding_new\"]='DEGENERATION' \n",
    "hist \n",
    "\n",
    "#CHANGES ALL THE ROWS IN find_new column that conatins word into the \"Degeneration\n",
    "\""
   ]
  },
  {
   "cell_type": "code",
   "execution_count": null,
   "id": "fa64cf27",
   "metadata": {},
   "outputs": [],
   "source": [
    "df[\"test_article\"].str.contains(r'\\.', regex=True)  #that has . in the df[test_article]\n",
    "df[\"test_article\"].str.contains(r'\\ ', regex=True)  #that has space in the df[test_article]\n",
    "DF[~[\"test_article\"].str.contains('\\/', regex=True) #REMOVES that has space in the df[test_article]"
   ]
  },
  {
   "cell_type": "code",
   "execution_count": null,
   "id": "5046a31a",
   "metadata": {},
   "outputs": [],
   "source": [
    "Duplicates:\n",
    "    df.duplicated() or \n",
    "    \n",
    "    p=kin.groupby(\"A_Number\")[\"IC50\"].count()[kin.groupby(\"A_Number\")[\"IC50\"].count().values>1].index\n",
    "    kin[kin[\"A_Number\"]==p]"
   ]
  },
  {
   "cell_type": "markdown",
   "id": "c87e36a9",
   "metadata": {},
   "source": [
    "# PIVOT/MELT \n",
    "\n",
    "\n",
    "#### melt is used to unpivot the table (vertical format)"
   ]
  },
  {
   "cell_type": "code",
   "execution_count": null,
   "id": "b7c55ba4",
   "metadata": {},
   "outputs": [],
   "source": [
    "aa[aa['Strength']>=i][[\"measurement_name\",\"mapped_finding\",\"Count\"]].pivot_table(values='Count',\n",
    "                                                            index=\"mapped_finding\", \n",
    "                                         aggfunc=np.sum)"
   ]
  },
  {
   "cell_type": "code",
   "execution_count": null,
   "id": "9d85530c",
   "metadata": {},
   "outputs": [],
   "source": [
    "Python to Spotfire :\n",
    "    \n",
    "#!pip install spotfire\n",
    "import spotfire.sbdf as sbdf\n",
    "sbdf.export_data(Species_FinalDB, \"Species_FinalDB.sbdf\")"
   ]
  },
  {
   "cell_type": "code",
   "execution_count": 49,
   "id": "8c4a0e79",
   "metadata": {
    "scrolled": true
   },
   "outputs": [
    {
     "data": {
      "text/html": [
       "\n",
       "        <iframe\n",
       "            width=\"100%\"\n",
       "            height=\"500\"\n",
       "            src=\"pivottablejs.html\"\n",
       "            frameborder=\"0\"\n",
       "            allowfullscreen\n",
       "            \n",
       "        ></iframe>\n",
       "        "
      ],
      "text/plain": [
       "<IPython.lib.display.IFrame at 0x1d269922310>"
      ]
     },
     "execution_count": 49,
     "metadata": {},
     "output_type": "execute_result"
    }
   ],
   "source": [
    "#!pip install pivottablejs\n",
    "from pivottablejs import pivot_ui\n",
    "pivot_ui(el2[1])\n"
   ]
  },
  {
   "cell_type": "markdown",
   "id": "42d188fa",
   "metadata": {},
   "source": [
    "# Write different excel/csv files into multiple sheets \n",
    "### loop csv file into one "
   ]
  },
  {
   "cell_type": "code",
   "execution_count": null,
   "id": "44499179",
   "metadata": {},
   "outputs": [],
   "source": [
    "def eel(x):\n",
    "    with pd.ExcelWriter(\"stacyhist.xlsx\") as writer:\n",
    "        for i in range(len(x)):\n",
    "            x[i].to_excel(writer, sheet_name=str(i))\n",
    "eel(el2)"
   ]
  }
 ],
 "metadata": {
  "kernelspec": {
   "display_name": "Python 3 (ipykernel)",
   "language": "python",
   "name": "python3"
  },
  "language_info": {
   "codemirror_mode": {
    "name": "ipython",
    "version": 3
   },
   "file_extension": ".py",
   "mimetype": "text/x-python",
   "name": "python",
   "nbconvert_exporter": "python",
   "pygments_lexer": "ipython3",
   "version": "3.9.12"
  }
 },
 "nbformat": 4,
 "nbformat_minor": 5
}
